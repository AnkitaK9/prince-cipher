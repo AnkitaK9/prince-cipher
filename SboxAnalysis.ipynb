{
  "nbformat": 4,
  "nbformat_minor": 0,
  "metadata": {
    "colab": {
      "provenance": []
    },
    "kernelspec": {
      "name": "python3",
      "display_name": "Python 3"
    },
    "language_info": {
      "name": "python"
    }
  },
  "cells": [
    {
      "cell_type": "markdown",
      "source": [
        "##Sbox analysis"
      ],
      "metadata": {
        "id": "JwVAGbORB78P"
      }
    },
    {
      "cell_type": "markdown",
      "source": [
        "###Difference Distribution table"
      ],
      "metadata": {
        "id": "w_NyTfLFCEyQ"
      }
    },
    {
      "cell_type": "code",
      "execution_count": null,
      "metadata": {
        "colab": {
          "base_uri": "https://localhost:8080/"
        },
        "id": "lMMmlQ2kHvWE",
        "outputId": "fa3a03b8-e66f-4a02-ff5d-ff92f6002a6a"
      },
      "outputs": [
        {
          "output_type": "stream",
          "name": "stdout",
          "text": [
            " DDT\n",
            "[[16  0  0  0  0  0  0  0  0  0  0  0  0  0  0  0]\n",
            " [ 0  4  0  0  2  0  2  0  4  2  0  2  0  0  0  0]\n",
            " [ 0  2  0  4  0  0  0  2  2  0  0  0  0  4  2  0]\n",
            " [ 0  0  0  0  0  2  2  0  2  2  2  2  2  0  0  2]\n",
            " [ 0  2  2  4  2  2  0  0  2  0  2  0  0  0  0  0]\n",
            " [ 0  0  2  2  0  2  0  2  0  2  0  2  2  2  0  0]\n",
            " [ 0  0  2  2  0  2  2  0  0  2  0  2  0  0  4  0]\n",
            " [ 0  0  2  0  0  0  2  0  2  0  4  0  0  2  2  2]\n",
            " [ 0  0  2  0  4  2  0  0  2  2  0  2  0  2  0  0]\n",
            " [ 0  0  2  2  0  0  0  0  0  2  2  0  4  2  0  2]\n",
            " [ 0  0  0  2  2  4  0  4  2  0  0  0  0  0  0  2]\n",
            " [ 0  2  0  0  4  0  0  2  0  0  0  2  2  0  2  2]\n",
            " [ 0  4  0  0  0  2  2  0  0  0  2  2  2  0  2  0]\n",
            " [ 0  2  0  0  0  0  0  2  0  4  2  0  0  2  2  2]\n",
            " [ 0  0  2  0  0  0  4  2  0  0  0  2  2  2  0  2]\n",
            " [ 0  0  2  0  2  0  2  2  0  0  2  0  2  0  2  2]]\n"
          ]
        }
      ],
      "source": [
        "import numpy as np\n",
        "def ddt(Sbox):\n",
        "   from operator import xor\n",
        "   n=len(Sbox)\n",
        "   DDT_Table=[[0]*n for i in range(n)]\n",
        "   for j in range(n):\n",
        "      for k in range(n):\n",
        "        xor1=xor(j,k)\n",
        "        xor2=xor(Sbox[j],Sbox[k])\n",
        "        DDT_Table[xor1][xor2]+=1\n",
        "   return DDT_Table \n",
        "Sbox=[11,15,3,2,10,12,9,1,6,7,8,0,14,5,13,4]\n",
        "print(' DDT',np.matrix(ddt(Sbox)),sep='\\n')"
      ]
    },
    {
      "cell_type": "code",
      "source": [
        "for i,j in enumerate(ddt(Sbox)):\n",
        "  count=0\n",
        "  for x in j:\n",
        "    if(x!=0):\n",
        "      count+=1\n",
        "  print(f'For input difference {i} --> Output difference is {count}')"
      ],
      "metadata": {
        "colab": {
          "base_uri": "https://localhost:8080/"
        },
        "id": "bZIRiLKHJ6Lz",
        "outputId": "bd83869c-6a40-4a40-8c29-35e7a7a05932"
      },
      "execution_count": null,
      "outputs": [
        {
          "output_type": "stream",
          "name": "stdout",
          "text": [
            "For input difference 0 --> Output difference is 1\n",
            "For input difference 1 --> Output difference is 6\n",
            "For input difference 2 --> Output difference is 6\n",
            "For input difference 3 --> Output difference is 8\n",
            "For input difference 4 --> Output difference is 7\n",
            "For input difference 5 --> Output difference is 8\n",
            "For input difference 6 --> Output difference is 7\n",
            "For input difference 7 --> Output difference is 7\n",
            "For input difference 8 --> Output difference is 7\n",
            "For input difference 9 --> Output difference is 7\n",
            "For input difference 10 --> Output difference is 6\n",
            "For input difference 11 --> Output difference is 7\n",
            "For input difference 12 --> Output difference is 7\n",
            "For input difference 13 --> Output difference is 7\n",
            "For input difference 14 --> Output difference is 7\n",
            "For input difference 15 --> Output difference is 8\n"
          ]
        }
      ]
    },
    {
      "cell_type": "markdown",
      "source": [
        "###Differential Uniformity"
      ],
      "metadata": {
        "id": "A6YwE3lrCxPj"
      }
    },
    {
      "cell_type": "code",
      "source": [
        "for i in ddt(Sbox):\n",
        "  for j in i:\n",
        "      if(len(set(i))==3):\n",
        "        a=max(set(i))\n",
        "print(\"The differential uniformity is :\",a) "
      ],
      "metadata": {
        "colab": {
          "base_uri": "https://localhost:8080/"
        },
        "id": "_FZYbjS_Cmtf",
        "outputId": "93fe223d-7f71-4fb4-8325-4b8c7bfd40d9"
      },
      "execution_count": null,
      "outputs": [
        {
          "output_type": "stream",
          "name": "stdout",
          "text": [
            "The differential uniformity is : 4\n"
          ]
        }
      ]
    },
    {
      "cell_type": "markdown",
      "source": [
        "###Differential Branch Number"
      ],
      "metadata": {
        "id": "lNdpE0nWIW4E"
      }
    },
    {
      "cell_type": "markdown",
      "source": [
        "![Screenshot from 2022-12-01 15-14-08.png](data:image/png;base64,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)\n"
      ],
      "metadata": {
        "id": "9g_thVVLHoew"
      }
    },
    {
      "cell_type": "code",
      "source": [
        "#non zero entries\n",
        "count=0\n",
        "for i in ddt(Sbox):\n",
        "  for j in i:\n",
        "      if (j!=0):\n",
        "        count+=1\n",
        "print(count)"
      ],
      "metadata": {
        "colab": {
          "base_uri": "https://localhost:8080/"
        },
        "id": "v_0mHHkBz3D7",
        "outputId": "7431451b-9a61-43d7-d112-f2035236e72c"
      },
      "execution_count": null,
      "outputs": [
        {
          "output_type": "stream",
          "name": "stdout",
          "text": [
            "106\n"
          ]
        }
      ]
    },
    {
      "cell_type": "markdown",
      "source": [
        "###Linear Approximation Table"
      ],
      "metadata": {
        "id": "c2tQa2AkCXhN"
      }
    },
    {
      "cell_type": "code",
      "source": [
        "def lat(Sbox):  \n",
        "    LAT = [[0]*16 for i in range(16)]\n",
        "    for alpha in range(16):\n",
        "        for beta in range(16):\n",
        "            total = 0\n",
        "            for input in range(16):\n",
        "                input_masked = input & alpha\n",
        "                output_masked = Sbox[input] & beta\n",
        "                if (bin(input_masked).count(\"1\") - bin(output_masked).count(\"1\")) % 2 == 0:\n",
        "                    total += 1 \n",
        "       #Converting to Bias Form - Relative to P[1/2]\n",
        "            LAT[alpha][beta]= total - 16//2\n",
        "        \n",
        "    return LAT"
      ],
      "metadata": {
        "id": "WrAkiLloaMPc"
      },
      "execution_count": null,
      "outputs": []
    },
    {
      "cell_type": "code",
      "source": [
        "print('LAT', np.matrix(lat(Sbox)),sep='\\n\\n')"
      ],
      "metadata": {
        "colab": {
          "base_uri": "https://localhost:8080/"
        },
        "id": "nUKAkne9oipH",
        "outputId": "4f680e7b-be79-4f69-8afc-44e91d9252bd"
      },
      "execution_count": null,
      "outputs": [
        {
          "output_type": "stream",
          "name": "stdout",
          "text": [
            "LAT\n",
            "\n",
            "[[ 8  0  0  0  0  0  0  0  0  0  0  0  0  0  0  0]\n",
            " [ 0  0 -2 -2  2 -2  0  4 -4  0 -2  2 -2 -2  0  0]\n",
            " [ 0  0 -4  0 -4  0  0  0 -2 -2  2 -2 -2  2  2  2]\n",
            " [ 0  4 -2 -2  2 -2  0  0  2  2  4  0  0  0  2 -2]\n",
            " [ 0  0 -4  4  2  2  2  2  2  2 -2 -2  0  0  0  0]\n",
            " [ 0  0  2  2  0 -4 -2  2  2 -2  0 -4 -2 -2  0  0]\n",
            " [ 0 -4  0  0 -2 -2  2 -2  0  4  0  0 -2 -2  2 -2]\n",
            " [ 0  0  2 -2  0  0 -2  2  0  4 -2 -2  0  4  2  2]\n",
            " [ 0 -2 -2  0  4 -2 -2 -4 -2  0  0 -2  2  0  0  2]\n",
            " [ 0 -2  0  2  2  0 -2  0  2  0  2  4 -4  2  0  2]\n",
            " [ 0  2  2  4  0  2 -2  0 -4  2  2  0  0 -2  2  0]\n",
            " [ 0 -2  0 -2  2  4 -2  0  0 -2  0 -2 -2  0  2 -4]\n",
            " [ 0 -2 -2  0 -2  0 -4  2  0  2  2  0  2  0 -4 -2]\n",
            " [ 0 -2  0  2  0 -2  0  2  0 -2  0  2  4  2  4 -2]\n",
            " [ 0 -2  2  0  2  0  4  2 -2  0  4 -2  0  2 -2  0]\n",
            " [ 0  2  0  2  0 -2  0 -2 -2  0 -2  0 -2  4 -2 -4]]\n"
          ]
        }
      ]
    },
    {
      "cell_type": "code",
      "source": [
        "for i,j in enumerate(lat(Sbox)):\n",
        "  count=0\n",
        "  for x in j:\n",
        "    if(x!=0):\n",
        "      count+=1\n",
        "  print(f'For input difference {i} --> Output difference is {count}')"
      ],
      "metadata": {
        "colab": {
          "base_uri": "https://localhost:8080/"
        },
        "id": "rfW5t0FHJzf1",
        "outputId": "e3064344-adda-40be-e5d5-e776187a8ccf"
      },
      "execution_count": null,
      "outputs": [
        {
          "output_type": "stream",
          "name": "stdout",
          "text": [
            "For input difference 0 --> Output difference is 1\n",
            "For input difference 1 --> Output difference is 10\n",
            "For input difference 2 --> Output difference is 10\n",
            "For input difference 3 --> Output difference is 10\n",
            "For input difference 4 --> Output difference is 10\n",
            "For input difference 5 --> Output difference is 10\n",
            "For input difference 6 --> Output difference is 10\n",
            "For input difference 7 --> Output difference is 10\n",
            "For input difference 8 --> Output difference is 10\n",
            "For input difference 9 --> Output difference is 10\n",
            "For input difference 10 --> Output difference is 10\n",
            "For input difference 11 --> Output difference is 10\n",
            "For input difference 12 --> Output difference is 10\n",
            "For input difference 13 --> Output difference is 10\n",
            "For input difference 14 --> Output difference is 10\n",
            "For input difference 15 --> Output difference is 10\n"
          ]
        }
      ]
    },
    {
      "cell_type": "code",
      "source": [],
      "metadata": {
        "id": "3QsVjqec_-R1"
      },
      "execution_count": null,
      "outputs": []
    }
  ]
}